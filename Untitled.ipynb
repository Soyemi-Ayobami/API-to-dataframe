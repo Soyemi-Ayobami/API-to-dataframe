{
 "cells": [
  {
   "cell_type": "markdown",
   "id": "24d24df7",
   "metadata": {},
   "source": [
    "Objective\n",
    "You have been given a task to gather data about movies from the Open Movie Database (OMDb) API and store it in a pandas dataframe. The data should include the movie title, year of release, director, and rating.\n",
    "\n",
    "Instructions\n",
    "1.Go to the OMDb API website (https://www.omdbapi.com/apikey.aspx) and obtain an API key.\n",
    "\n",
    "2.Install the requests and pandas libraries if you have not already done so.\n",
    "\n",
    "3.Use the requests library to send a request to the OMDb API to retrieve data about the top 10 movies.\n",
    "\n",
    "4.Parse the data using the json library to extract the title, year, director, and rating for each movie.\n",
    "\n",
    "5.Store the extracted data in a pandas dataframe with appropriate column names.\n",
    "\n",
    "6.Print the dataframe to verify that the data has been successfully stored.\n",
    "\n",
    "Note: The API key needs to be included in the request URL. The request URL for the top 10 movies is: http://www.omdbapi.com/?apikey=[YOUR_API_KEY]&s=*&type=movie&page=1. Replace [YOUR_API_KEY] with your actual API key.\n",
    "\n",
    " \n",
    "\n"
   ]
  },
  {
   "cell_type": "code",
   "execution_count": 90,
   "id": "7ed519ec",
   "metadata": {},
   "outputs": [],
   "source": [
    "import pandas as pd\n",
    "import json\n",
    "import requests"
   ]
  },
  {
   "cell_type": "code",
   "execution_count": 91,
   "id": "db1e2eeb",
   "metadata": {},
   "outputs": [],
   "source": [
    "ur1 = ('http://www.omdbapi.com/?i=tt3896198&apikey=912b66ed')\n"
   ]
  },
  {
   "cell_type": "code",
   "execution_count": 92,
   "id": "4300da2e",
   "metadata": {},
   "outputs": [],
   "source": [
    "response = requests.get(ur1)"
   ]
  },
  {
   "cell_type": "code",
   "execution_count": 93,
   "id": "c7a20a21",
   "metadata": {},
   "outputs": [
    {
     "data": {
      "text/plain": [
       "<Response [200]>"
      ]
     },
     "execution_count": 93,
     "metadata": {},
     "output_type": "execute_result"
    }
   ],
   "source": [
    "response"
   ]
  },
  {
   "cell_type": "code",
   "execution_count": 94,
   "id": "1a53233a",
   "metadata": {},
   "outputs": [
    {
     "data": {
      "text/plain": [
       "{'Title': 'Guardians of the Galaxy Vol. 2',\n",
       " 'Year': '2017',\n",
       " 'Rated': 'PG-13',\n",
       " 'Released': '05 May 2017',\n",
       " 'Runtime': '136 min',\n",
       " 'Genre': 'Action, Adventure, Comedy',\n",
       " 'Director': 'James Gunn',\n",
       " 'Writer': 'James Gunn, Dan Abnett, Andy Lanning',\n",
       " 'Actors': 'Chris Pratt, Zoe Saldana, Dave Bautista',\n",
       " 'Plot': \"The Guardians struggle to keep together as a team while dealing with their personal family issues, notably Star-Lord's encounter with his father the ambitious celestial being Ego.\",\n",
       " 'Language': 'English',\n",
       " 'Country': 'United States',\n",
       " 'Awards': 'Nominated for 1 Oscar. 15 wins & 60 nominations total',\n",
       " 'Poster': 'https://m.media-amazon.com/images/M/MV5BNjM0NTc0NzItM2FlYS00YzEwLWE0YmUtNTA2ZWIzODc2OTgxXkEyXkFqcGdeQXVyNTgwNzIyNzg@._V1_SX300.jpg',\n",
       " 'Ratings': [{'Source': 'Internet Movie Database', 'Value': '7.6/10'},\n",
       "  {'Source': 'Rotten Tomatoes', 'Value': '85%'},\n",
       "  {'Source': 'Metacritic', 'Value': '67/100'}],\n",
       " 'Metascore': '67',\n",
       " 'imdbRating': '7.6',\n",
       " 'imdbVotes': '691,435',\n",
       " 'imdbID': 'tt3896198',\n",
       " 'Type': 'movie',\n",
       " 'DVD': '22 Aug 2017',\n",
       " 'BoxOffice': '$389,813,101',\n",
       " 'Production': 'N/A',\n",
       " 'Website': 'N/A',\n",
       " 'Response': 'True'}"
      ]
     },
     "execution_count": 94,
     "metadata": {},
     "output_type": "execute_result"
    }
   ],
   "source": [
    "data = response.json()\n",
    "data"
   ]
  },
  {
   "cell_type": "code",
   "execution_count": 97,
   "id": "eca4953c",
   "metadata": {},
   "outputs": [],
   "source": [
    "movies = []\n",
    "if data['Response'] == 'True':\n",
    "    movie_data = {}\n",
    "    movie_data['Title'] = data ['Title']\n",
    "    movie_data['Year'] = data['Year']\n",
    "    movie_data['Director'] = data['Director']\n",
    "    movie_data['Rating'] = data['imdbRating']\n",
    "    movies.append(movie_data)\n",
    "    "
   ]
  },
  {
   "cell_type": "code",
   "execution_count": 98,
   "id": "db9580f1",
   "metadata": {},
   "outputs": [],
   "source": [
    "data = pd.DataFrame(movies, columns=['Title', 'Year', 'Director','Rating'])"
   ]
  },
  {
   "cell_type": "code",
   "execution_count": 99,
   "id": "ee6d8776",
   "metadata": {},
   "outputs": [
    {
     "data": {
      "text/html": [
       "<div>\n",
       "<style scoped>\n",
       "    .dataframe tbody tr th:only-of-type {\n",
       "        vertical-align: middle;\n",
       "    }\n",
       "\n",
       "    .dataframe tbody tr th {\n",
       "        vertical-align: top;\n",
       "    }\n",
       "\n",
       "    .dataframe thead th {\n",
       "        text-align: right;\n",
       "    }\n",
       "</style>\n",
       "<table border=\"1\" class=\"dataframe\">\n",
       "  <thead>\n",
       "    <tr style=\"text-align: right;\">\n",
       "      <th></th>\n",
       "      <th>Title</th>\n",
       "      <th>Year</th>\n",
       "      <th>Director</th>\n",
       "      <th>Rating</th>\n",
       "    </tr>\n",
       "  </thead>\n",
       "  <tbody>\n",
       "    <tr>\n",
       "      <th>0</th>\n",
       "      <td>Guardians of the Galaxy Vol. 2</td>\n",
       "      <td>2017</td>\n",
       "      <td>James Gunn</td>\n",
       "      <td>7.6</td>\n",
       "    </tr>\n",
       "  </tbody>\n",
       "</table>\n",
       "</div>"
      ],
      "text/plain": [
       "                            Title  Year    Director Rating\n",
       "0  Guardians of the Galaxy Vol. 2  2017  James Gunn    7.6"
      ]
     },
     "execution_count": 99,
     "metadata": {},
     "output_type": "execute_result"
    }
   ],
   "source": [
    "data.head()"
   ]
  },
  {
   "cell_type": "code",
   "execution_count": null,
   "id": "e2004c3d",
   "metadata": {},
   "outputs": [],
   "source": [
    "\n",
    "    "
   ]
  },
  {
   "cell_type": "code",
   "execution_count": null,
   "id": "ca447604",
   "metadata": {},
   "outputs": [],
   "source": []
  }
 ],
 "metadata": {
  "kernelspec": {
   "display_name": "Python 3 (ipykernel)",
   "language": "python",
   "name": "python3"
  },
  "language_info": {
   "codemirror_mode": {
    "name": "ipython",
    "version": 3
   },
   "file_extension": ".py",
   "mimetype": "text/x-python",
   "name": "python",
   "nbconvert_exporter": "python",
   "pygments_lexer": "ipython3",
   "version": "3.9.12"
  }
 },
 "nbformat": 4,
 "nbformat_minor": 5
}
